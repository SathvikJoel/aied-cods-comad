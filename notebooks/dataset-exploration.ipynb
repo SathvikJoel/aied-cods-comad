{
 "cells": [
  {
   "cell_type": "code",
   "execution_count": 66,
   "metadata": {},
   "outputs": [],
   "source": [
    "import pandas as pd\n",
    "import numpy as np\n",
    "\n",
    "import os\n"
   ]
  },
  {
   "cell_type": "code",
   "execution_count": 137,
   "metadata": {},
   "outputs": [
    {
     "data": {
      "text/html": [
       "<div>\n",
       "<style scoped>\n",
       "    .dataframe tbody tr th:only-of-type {\n",
       "        vertical-align: middle;\n",
       "    }\n",
       "\n",
       "    .dataframe tbody tr th {\n",
       "        vertical-align: top;\n",
       "    }\n",
       "\n",
       "    .dataframe thead th {\n",
       "        text-align: right;\n",
       "    }\n",
       "</style>\n",
       "<table border=\"1\" class=\"dataframe\">\n",
       "  <thead>\n",
       "    <tr style=\"text-align: right;\">\n",
       "      <th></th>\n",
       "      <th>label</th>\n",
       "      <th>pre requisite</th>\n",
       "      <th>concept</th>\n",
       "      <th>pre requisite taxonomy</th>\n",
       "      <th>concept taxonomy</th>\n",
       "      <th>title 12</th>\n",
       "      <th>title 12.1</th>\n",
       "      <th>title 12.2</th>\n",
       "      <th>title 12.3</th>\n",
       "      <th>title 12.4</th>\n",
       "      <th>...</th>\n",
       "      <th>BOW 657</th>\n",
       "      <th>BOW 658</th>\n",
       "      <th>BOW 659</th>\n",
       "      <th>BOW 660</th>\n",
       "      <th>BOW 661</th>\n",
       "      <th>BOW 662</th>\n",
       "      <th>BOW 663</th>\n",
       "      <th>BOW 664</th>\n",
       "      <th>BOW 665</th>\n",
       "      <th>kfold</th>\n",
       "    </tr>\n",
       "  </thead>\n",
       "  <tbody>\n",
       "    <tr>\n",
       "      <th>0</th>\n",
       "      <td>1</td>\n",
       "      <td>Volume of a Cylinder</td>\n",
       "      <td>Volume  of Combination of Hemisphere and Cylinder</td>\n",
       "      <td>VIII&gt;&gt;Mathematics&gt;&gt;Mensuration&gt;&gt;Volume of Soli...</td>\n",
       "      <td>VIII&gt;&gt;Mathematics&gt;&gt;Mensuration&gt;&gt;Volume of Soli...</td>\n",
       "      <td>0.884399</td>\n",
       "      <td>1</td>\n",
       "      <td>0.5</td>\n",
       "      <td>0.5</td>\n",
       "      <td>0.5</td>\n",
       "      <td>...</td>\n",
       "      <td>0</td>\n",
       "      <td>0</td>\n",
       "      <td>0</td>\n",
       "      <td>0</td>\n",
       "      <td>0</td>\n",
       "      <td>0</td>\n",
       "      <td>0</td>\n",
       "      <td>0</td>\n",
       "      <td>0</td>\n",
       "      <td>0</td>\n",
       "    </tr>\n",
       "    <tr>\n",
       "      <th>1</th>\n",
       "      <td>0</td>\n",
       "      <td>Slow and fast motion</td>\n",
       "      <td>Translatory Motion</td>\n",
       "      <td>VI&gt;&gt;Science&gt;&gt;Motion and Measurement of Distanc...</td>\n",
       "      <td>IX&gt;&gt;Science&gt;&gt;Motion&gt;&gt;Describing Motion</td>\n",
       "      <td>0.860345</td>\n",
       "      <td>1</td>\n",
       "      <td>1.0</td>\n",
       "      <td>1.0</td>\n",
       "      <td>1.0</td>\n",
       "      <td>...</td>\n",
       "      <td>0</td>\n",
       "      <td>0</td>\n",
       "      <td>0</td>\n",
       "      <td>0</td>\n",
       "      <td>0</td>\n",
       "      <td>0</td>\n",
       "      <td>0</td>\n",
       "      <td>0</td>\n",
       "      <td>0</td>\n",
       "      <td>-1</td>\n",
       "    </tr>\n",
       "    <tr>\n",
       "      <th>2</th>\n",
       "      <td>0</td>\n",
       "      <td>Construction of an Angle of 60</td>\n",
       "      <td>Gauss s Law</td>\n",
       "      <td>IX&gt;&gt;Mathematics&gt;&gt;Constructions&gt;&gt;Some Construct...</td>\n",
       "      <td>XII&gt;&gt;Physics&gt;&gt;Physics: Part - I&gt;&gt;Electrostatic...</td>\n",
       "      <td>0.323783</td>\n",
       "      <td>2</td>\n",
       "      <td>1.0</td>\n",
       "      <td>1.0</td>\n",
       "      <td>1.0</td>\n",
       "      <td>...</td>\n",
       "      <td>0</td>\n",
       "      <td>0</td>\n",
       "      <td>0</td>\n",
       "      <td>0</td>\n",
       "      <td>0</td>\n",
       "      <td>0</td>\n",
       "      <td>0</td>\n",
       "      <td>0</td>\n",
       "      <td>0</td>\n",
       "      <td>-1</td>\n",
       "    </tr>\n",
       "    <tr>\n",
       "      <th>3</th>\n",
       "      <td>0</td>\n",
       "      <td>Gravitational potential energy</td>\n",
       "      <td>Mechanical Energy</td>\n",
       "      <td>XI&gt;&gt;Physics&gt;&gt;Physics : Part - I&gt;&gt;Work, Energy ...</td>\n",
       "      <td>XI&gt;&gt;Physics&gt;&gt;Physics : Part - I&gt;&gt;Gravitation&gt;&gt;...</td>\n",
       "      <td>0.871826</td>\n",
       "      <td>2</td>\n",
       "      <td>1.0</td>\n",
       "      <td>1.0</td>\n",
       "      <td>1.0</td>\n",
       "      <td>...</td>\n",
       "      <td>0</td>\n",
       "      <td>0</td>\n",
       "      <td>0</td>\n",
       "      <td>2</td>\n",
       "      <td>0</td>\n",
       "      <td>0</td>\n",
       "      <td>2</td>\n",
       "      <td>0</td>\n",
       "      <td>0</td>\n",
       "      <td>-1</td>\n",
       "    </tr>\n",
       "    <tr>\n",
       "      <th>4</th>\n",
       "      <td>0</td>\n",
       "      <td>Water Management</td>\n",
       "      <td>Composition of Air</td>\n",
       "      <td>VII&gt;&gt;Science&gt;&gt;Water: A Precious Resource&gt;&gt;Grou...</td>\n",
       "      <td>IX&gt;&gt;Science&gt;&gt;Natural Resources&gt;&gt;Air as a Natur...</td>\n",
       "      <td>0.583857</td>\n",
       "      <td>2</td>\n",
       "      <td>1.0</td>\n",
       "      <td>1.0</td>\n",
       "      <td>1.0</td>\n",
       "      <td>...</td>\n",
       "      <td>0</td>\n",
       "      <td>0</td>\n",
       "      <td>0</td>\n",
       "      <td>0</td>\n",
       "      <td>0</td>\n",
       "      <td>0</td>\n",
       "      <td>0</td>\n",
       "      <td>0</td>\n",
       "      <td>0</td>\n",
       "      <td>-1</td>\n",
       "    </tr>\n",
       "  </tbody>\n",
       "</table>\n",
       "<p>5 rows × 987 columns</p>\n",
       "</div>"
      ],
      "text/plain": [
       "   label                    pre requisite  \\\n",
       "0      1             Volume of a Cylinder   \n",
       "1      0             Slow and fast motion   \n",
       "2      0  Construction of an Angle of 60    \n",
       "3      0   Gravitational potential energy   \n",
       "4      0                 Water Management   \n",
       "\n",
       "                                             concept  \\\n",
       "0  Volume  of Combination of Hemisphere and Cylinder   \n",
       "1                                 Translatory Motion   \n",
       "2                                        Gauss s Law   \n",
       "3                                  Mechanical Energy   \n",
       "4                                 Composition of Air   \n",
       "\n",
       "                              pre requisite taxonomy  \\\n",
       "0  VIII>>Mathematics>>Mensuration>>Volume of Soli...   \n",
       "1  VI>>Science>>Motion and Measurement of Distanc...   \n",
       "2  IX>>Mathematics>>Constructions>>Some Construct...   \n",
       "3  XI>>Physics>>Physics : Part - I>>Work, Energy ...   \n",
       "4  VII>>Science>>Water: A Precious Resource>>Grou...   \n",
       "\n",
       "                                    concept taxonomy  title 12  title 12.1  \\\n",
       "0  VIII>>Mathematics>>Mensuration>>Volume of Soli...  0.884399           1   \n",
       "1             IX>>Science>>Motion>>Describing Motion  0.860345           1   \n",
       "2  XII>>Physics>>Physics: Part - I>>Electrostatic...  0.323783           2   \n",
       "3  XI>>Physics>>Physics : Part - I>>Gravitation>>...  0.871826           2   \n",
       "4  IX>>Science>>Natural Resources>>Air as a Natur...  0.583857           2   \n",
       "\n",
       "   title 12.2  title 12.3  title 12.4  ...  BOW 657  BOW 658  BOW 659  \\\n",
       "0         0.5         0.5         0.5  ...        0        0        0   \n",
       "1         1.0         1.0         1.0  ...        0        0        0   \n",
       "2         1.0         1.0         1.0  ...        0        0        0   \n",
       "3         1.0         1.0         1.0  ...        0        0        0   \n",
       "4         1.0         1.0         1.0  ...        0        0        0   \n",
       "\n",
       "   BOW 660  BOW 661  BOW 662  BOW 663  BOW 664  BOW 665  kfold  \n",
       "0        0        0        0        0        0        0      0  \n",
       "1        0        0        0        0        0        0     -1  \n",
       "2        0        0        0        0        0        0     -1  \n",
       "3        2        0        0        2        0        0     -1  \n",
       "4        0        0        0        0        0        0     -1  \n",
       "\n",
       "[5 rows x 987 columns]"
      ]
     },
     "execution_count": 137,
     "metadata": {},
     "output_type": "execute_result"
    }
   ],
   "source": [
    "data = pd.read_csv(os.path.join('..', 'input', 'train_folds.csv'))\n",
    "\n",
    "data.head()"
   ]
  },
  {
   "cell_type": "code",
   "execution_count": 140,
   "metadata": {},
   "outputs": [
    {
     "data": {
      "text/plain": [
       "0       0\n",
       "1      -1\n",
       "2      -1\n",
       "3      -1\n",
       "4      -1\n",
       "       ..\n",
       "3896   -1\n",
       "3897   -1\n",
       "3898   -1\n",
       "3899   -1\n",
       "3900   -1\n",
       "Name: kfold, Length: 3901, dtype: int64"
      ]
     },
     "execution_count": 140,
     "metadata": {},
     "output_type": "execute_result"
    }
   ],
   "source": [
    "data['kfold']"
   ]
  },
  {
   "cell_type": "code",
   "execution_count": 161,
   "metadata": {},
   "outputs": [
    {
     "name": "stdout",
     "output_type": "stream",
     "text": [
      "Length of the original dataset 2797\n",
      "Length of the augumented dataset 3901\n",
      "0    2788\n",
      "1    1113\n",
      "Name: label, dtype: int64\n",
      "[0 0 0 ... 0 1 0]\n"
     ]
    }
   ],
   "source": [
    "from sklearn import model_selection\n",
    "import pandas as pd\n",
    "import numpy as np\n",
    "import os\n",
    "\n",
    "# read the data \n",
    "data = pd.read_csv(os.path.join('..', 'input', 'train.csv'))\n",
    "\n",
    "print(f'Length of the original dataset {len(data)}')\n",
    "\n",
    "# data augumention if ( A->B then B!->A)\n",
    "data_label1 = data[data['label'] == 1]\n",
    "data_label0 = data[data['label'] == 0]\n",
    "\n",
    "data_label_change = data_label1.rename(columns={'pre requisite': 'concept', 'concept': 'pre requisite'}, inplace=False)\n",
    "\n",
    "data_label0 = data_label0.append(data_label_change).drop_duplicates(subset=['concept', 'pre requisite'])\n",
    "\n",
    "data_label0['label'] = 0 # change the label for the agumentation\n",
    "\n",
    "data = pd.concat([data_label0, data_label1])\n",
    "\n",
    "print(f'Length of the augumented dataset {len(data)}')\n",
    "\n",
    "print(data['label'].value_counts())\n",
    "\n",
    "# seperate into folds\n",
    "\n",
    "data['kfold'] = -1\n",
    "\n",
    "data = data.sample(frac = 1).reset_index(drop = True)\n",
    "\n",
    "# print(data)\n",
    "labels = data['label'].values\n",
    "\n",
    "print(labels)\n",
    "\n",
    "kf = model_selection.StratifiedKFold(n_splits=5)\n",
    "\n",
    "# for f, (t_, v_) in enumerate(kf.split(X = data, y = labels)):\n",
    "#     print(t_)"
   ]
  },
  {
   "cell_type": "code",
   "execution_count": 68,
   "metadata": {},
   "outputs": [
    {
     "name": "stdout",
     "output_type": "stream",
     "text": [
      "Length of the dataset 2797\n",
      "Rows with a prereq ( Label = 1 ) 1113\n",
      "Rows without a prereq ( Label = 0 )1684\n"
     ]
    }
   ],
   "source": [
    "print(f'Length of the dataset {len(data)}')\n",
    "\n",
    "print(f'Rows with a prereq ( Label = 1 ) {sum(data.label == 1)}')\n",
    "\n",
    "print(f'Rows without a prereq ( Label = 0 ){sum(data.label == 0)}')"
   ]
  },
  {
   "cell_type": "code",
   "execution_count": 69,
   "metadata": {},
   "outputs": [
    {
     "name": "stdout",
     "output_type": "stream",
     "text": [
      "Unique concepts in the dataset 666\n",
      "Unique pre reqs in the dataset 439\n"
     ]
    }
   ],
   "source": [
    "print(f'Unique concepts in the dataset {len(data.concept.unique())}')\n",
    "\n",
    "print(f'Unique pre reqs in the dataset {len(data[\"pre requisite\"].unique())}')"
   ]
  },
  {
   "cell_type": "code",
   "execution_count": 135,
   "metadata": {},
   "outputs": [
    {
     "data": {
      "text/plain": [
       "video name\n",
       "Collection and Presentation of Data - II     we already know that data can be presented us...\n",
       "Frequency Polygon                            there is the same ar picture is for ar thousa...\n",
       "Mean                                         mean in our day to day life we talk about ave...\n",
       "Angle Sum Property                           angle sum property done by an looking confuse...\n",
       "Inequality Property of Triangle              the sum of the lengths of any two sides of tr...\n",
       "Name: transcript, dtype: object"
      ]
     },
     "execution_count": 135,
     "metadata": {},
     "output_type": "execute_result"
    }
   ],
   "source": [
    "meta_data = pd.read_csv(os.path.join('..', 'input', 'metadata.csv'), index_col='video name')['transcript']\n",
    "\n",
    "meta_data.head(5)"
   ]
  },
  {
   "cell_type": "code",
   "execution_count": 136,
   "metadata": {},
   "outputs": [
    {
     "name": "stdout",
     "output_type": "stream",
     "text": [
      " mean in our day to day life we talk about averages all the time like the average speed of car the average score of test the average height of basket ball players the average wage or income do you know what an average is an average is the central value of a set of numbers for a data set the term average an arithmetic mean are used synonymously to refer to a central value of set of numbers the arithmetic mean or simply mean of observations ex one ex to and so on up to ex m is the sum of the observations divided by the number of observations the arithmetic mean is normally denoted by ex bar let us take an example the arithmetic mean of five values six three four five and seven is six plus three plus four plus five plus seven divided by five on simplification arithmetic mean is equal to five\n"
     ]
    }
   ],
   "source": [
    "print(meta_data.get('Mean', default=None))"
   ]
  },
  {
   "cell_type": "code",
   "execution_count": 71,
   "metadata": {},
   "outputs": [
    {
     "name": "stdout",
     "output_type": "stream",
     "text": [
      "length of meta_data 910\n",
      "Unique number  of videos in meta_data 910\n"
     ]
    }
   ],
   "source": [
    "print(f'length of meta_data {len(meta_data)}')\n",
    "\n",
    "print(f'Unique number  of videos in meta_data {len(meta_data[\"video name\"].unique())}')"
   ]
  },
  {
   "cell_type": "code",
   "execution_count": 72,
   "metadata": {},
   "outputs": [
    {
     "name": "stdout",
     "output_type": "stream",
     "text": [
      "Average length of transcript in the dataset 448.6142857142857\n"
     ]
    }
   ],
   "source": [
    "print(f'Average length of transcript in the dataset {meta_data[\"transcript\"].apply(lambda x: len(x.split())).mean()}')"
   ]
  },
  {
   "cell_type": "code",
   "execution_count": null,
   "metadata": {},
   "outputs": [],
   "source": []
  },
  {
   "cell_type": "markdown",
   "metadata": {},
   "source": [
    "# Q. If A->B is in D then is there B!->A in D as well ?"
   ]
  },
  {
   "cell_type": "code",
   "execution_count": 73,
   "metadata": {},
   "outputs": [
    {
     "data": {
      "text/plain": [
       "Index(['label', 'pre requisite', 'concept', 'pre requisite taxonomy',\n",
       "       'concept taxonomy', 'title 12', 'title 12.1', 'title 12.2',\n",
       "       'title 12.3', 'title 12.4',\n",
       "       ...\n",
       "       'BOW 656', 'BOW 657', 'BOW 658', 'BOW 659', 'BOW 660', 'BOW 661',\n",
       "       'BOW 662', 'BOW 663', 'BOW 664', 'BOW 665'],\n",
       "      dtype='object', length=986)"
      ]
     },
     "execution_count": 73,
     "metadata": {},
     "output_type": "execute_result"
    }
   ],
   "source": [
    "data[data['label'] == 1].keys()"
   ]
  },
  {
   "cell_type": "code",
   "execution_count": 94,
   "metadata": {},
   "outputs": [],
   "source": [
    "df_label1 = data[data['label'] == 1][['pre requisite', 'concept']]"
   ]
  },
  {
   "cell_type": "code",
   "execution_count": 95,
   "metadata": {},
   "outputs": [],
   "source": [
    "df_label0 = (data[data['label'] == 0][['pre requisite', 'concept']])"
   ]
  },
  {
   "cell_type": "code",
   "execution_count": 99,
   "metadata": {},
   "outputs": [],
   "source": [
    "df_label0.rename(columns={'pre requisite': 'concept', 'concept': 'pre requisite'}, inplace=True)"
   ]
  },
  {
   "cell_type": "code",
   "execution_count": 100,
   "metadata": {},
   "outputs": [
    {
     "data": {
      "text/html": [
       "<div>\n",
       "<style scoped>\n",
       "    .dataframe tbody tr th:only-of-type {\n",
       "        vertical-align: middle;\n",
       "    }\n",
       "\n",
       "    .dataframe tbody tr th {\n",
       "        vertical-align: top;\n",
       "    }\n",
       "\n",
       "    .dataframe thead th {\n",
       "        text-align: right;\n",
       "    }\n",
       "</style>\n",
       "<table border=\"1\" class=\"dataframe\">\n",
       "  <thead>\n",
       "    <tr style=\"text-align: right;\">\n",
       "      <th></th>\n",
       "      <th>concept</th>\n",
       "      <th>pre requisite</th>\n",
       "    </tr>\n",
       "  </thead>\n",
       "  <tbody>\n",
       "    <tr>\n",
       "      <th>0</th>\n",
       "      <td>Soil Erosion</td>\n",
       "      <td>Soil Profile</td>\n",
       "    </tr>\n",
       "    <tr>\n",
       "      <th>1</th>\n",
       "      <td>kepler's second law</td>\n",
       "      <td>kepler's first law</td>\n",
       "    </tr>\n",
       "    <tr>\n",
       "      <th>2</th>\n",
       "      <td>Kepler's third law</td>\n",
       "      <td>kepler's first law</td>\n",
       "    </tr>\n",
       "    <tr>\n",
       "      <th>3</th>\n",
       "      <td>Kepler's third law</td>\n",
       "      <td>kepler's second law</td>\n",
       "    </tr>\n",
       "    <tr>\n",
       "      <th>4</th>\n",
       "      <td>Fertilisation</td>\n",
       "      <td>Human Reproductive System</td>\n",
       "    </tr>\n",
       "    <tr>\n",
       "      <th>5</th>\n",
       "      <td>Fertilisation</td>\n",
       "      <td>Viviparous and Oviparous Animals</td>\n",
       "    </tr>\n",
       "    <tr>\n",
       "      <th>6</th>\n",
       "      <td>Galvanic Cell</td>\n",
       "      <td>Electrochemical cell</td>\n",
       "    </tr>\n",
       "    <tr>\n",
       "      <th>7</th>\n",
       "      <td>Cellular Respiration</td>\n",
       "      <td>Anaerobic Respiration</td>\n",
       "    </tr>\n",
       "    <tr>\n",
       "      <th>8</th>\n",
       "      <td>Double Blood Circulation</td>\n",
       "      <td>Blood Vessels</td>\n",
       "    </tr>\n",
       "  </tbody>\n",
       "</table>\n",
       "</div>"
      ],
      "text/plain": [
       "                    concept                     pre requisite\n",
       "0              Soil Erosion                      Soil Profile\n",
       "1       kepler's second law                kepler's first law\n",
       "2        Kepler's third law                kepler's first law\n",
       "3        Kepler's third law               kepler's second law\n",
       "4             Fertilisation         Human Reproductive System\n",
       "5             Fertilisation  Viviparous and Oviparous Animals\n",
       "6             Galvanic Cell              Electrochemical cell\n",
       "7      Cellular Respiration             Anaerobic Respiration\n",
       "8  Double Blood Circulation                     Blood Vessels"
      ]
     },
     "execution_count": 100,
     "metadata": {},
     "output_type": "execute_result"
    }
   ],
   "source": [
    "df_label0.merge(df_label1)\n",
    "\n",
    "# there is an intersection of 9 rows between the two"
   ]
  },
  {
   "cell_type": "code",
   "execution_count": 101,
   "metadata": {},
   "outputs": [],
   "source": [
    "df_label0 = (data[data['label'] == 0][['pre requisite', 'concept']])"
   ]
  },
  {
   "cell_type": "code",
   "execution_count": 102,
   "metadata": {},
   "outputs": [],
   "source": [
    "df_label_change = df_label1.rename(columns={'pre requisite': 'concept', 'concept': 'pre requisite'}, inplace=False)"
   ]
  },
  {
   "cell_type": "code",
   "execution_count": 103,
   "metadata": {},
   "outputs": [
    {
     "data": {
      "text/plain": [
       "9"
      ]
     },
     "execution_count": 103,
     "metadata": {},
     "output_type": "execute_result"
    }
   ],
   "source": [
    "(df_label0.append(df_label_change).value_counts() == 2).sum()"
   ]
  },
  {
   "cell_type": "code",
   "execution_count": 104,
   "metadata": {},
   "outputs": [
    {
     "data": {
      "text/plain": [
       "array([1, 1, 1, ..., 0, 0, 0], dtype=int64)"
      ]
     },
     "execution_count": 104,
     "metadata": {},
     "output_type": "execute_result"
    }
   ],
   "source": [
    "data.label.values"
   ]
  },
  {
   "cell_type": "code",
   "execution_count": 116,
   "metadata": {},
   "outputs": [],
   "source": [
    "df = pd.read_csv(os.path.join('..', 'input', 'train_folds.csv'))"
   ]
  },
  {
   "cell_type": "code",
   "execution_count": 117,
   "metadata": {},
   "outputs": [],
   "source": [
    "df_unagumented = pd.read_csv(os.path.join('..', 'input', 'train.csv'))"
   ]
  },
  {
   "cell_type": "code",
   "execution_count": 118,
   "metadata": {},
   "outputs": [
    {
     "data": {
      "text/plain": [
       "0    2788\n",
       "1    1113\n",
       "Name: label, dtype: int64"
      ]
     },
     "execution_count": 118,
     "metadata": {},
     "output_type": "execute_result"
    }
   ],
   "source": [
    "df['label'].value_counts()"
   ]
  },
  {
   "cell_type": "code",
   "execution_count": 119,
   "metadata": {},
   "outputs": [
    {
     "data": {
      "text/plain": [
       "0    1684\n",
       "1    1113\n",
       "Name: label, dtype: int64"
      ]
     },
     "execution_count": 119,
     "metadata": {},
     "output_type": "execute_result"
    }
   ],
   "source": [
    "df_unagumented['label'].value_counts()"
   ]
  },
  {
   "cell_type": "code",
   "execution_count": 128,
   "metadata": {},
   "outputs": [
    {
     "data": {
      "text/plain": [
       "<generator object DataFrame.items at 0x000002B2DEF11C48>"
      ]
     },
     "execution_count": 128,
     "metadata": {},
     "output_type": "execute_result"
    }
   ],
   "source": [
    "df.items()\n"
   ]
  },
  {
   "cell_type": "code",
   "execution_count": 122,
   "metadata": {},
   "outputs": [
    {
     "name": "stdout",
     "output_type": "stream",
     "text": [
      "('label', 0       0\n",
      "1       1\n",
      "2       0\n",
      "3       0\n",
      "4       0\n",
      "       ..\n",
      "3896    0\n",
      "3897    0\n",
      "3898    0\n",
      "3899    1\n",
      "3900    0\n",
      "Name: label, Length: 3901, dtype: int64)\n"
     ]
    }
   ],
   "source": [
    "for row in df.items():\n",
    "    print(row)\n",
    "    break"
   ]
  },
  {
   "cell_type": "code",
   "execution_count": null,
   "metadata": {},
   "outputs": [],
   "source": []
  }
 ],
 "metadata": {
  "kernelspec": {
   "display_name": "ml",
   "language": "python",
   "name": "python3"
  },
  "language_info": {
   "codemirror_mode": {
    "name": "ipython",
    "version": 3
   },
   "file_extension": ".py",
   "mimetype": "text/x-python",
   "name": "python",
   "nbconvert_exporter": "python",
   "pygments_lexer": "ipython3",
   "version": "3.7.6"
  },
  "orig_nbformat": 4
 },
 "nbformat": 4,
 "nbformat_minor": 2
}
