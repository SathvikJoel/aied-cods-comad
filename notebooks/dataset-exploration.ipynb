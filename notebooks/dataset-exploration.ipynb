{
 "cells": [
  {
   "cell_type": "code",
   "execution_count": 66,
   "metadata": {},
   "outputs": [],
   "source": [
    "import pandas as pd\n",
    "import numpy as np\n",
    "\n",
    "import os\n"
   ]
  },
  {
   "cell_type": "code",
   "execution_count": 67,
   "metadata": {},
   "outputs": [
    {
     "data": {
      "text/html": [
       "<div>\n",
       "<style scoped>\n",
       "    .dataframe tbody tr th:only-of-type {\n",
       "        vertical-align: middle;\n",
       "    }\n",
       "\n",
       "    .dataframe tbody tr th {\n",
       "        vertical-align: top;\n",
       "    }\n",
       "\n",
       "    .dataframe thead th {\n",
       "        text-align: right;\n",
       "    }\n",
       "</style>\n",
       "<table border=\"1\" class=\"dataframe\">\n",
       "  <thead>\n",
       "    <tr style=\"text-align: right;\">\n",
       "      <th></th>\n",
       "      <th>label</th>\n",
       "      <th>pre requisite</th>\n",
       "      <th>concept</th>\n",
       "      <th>pre requisite taxonomy</th>\n",
       "      <th>concept taxonomy</th>\n",
       "      <th>title 12</th>\n",
       "      <th>title 12.1</th>\n",
       "      <th>title 12.2</th>\n",
       "      <th>title 12.3</th>\n",
       "      <th>title 12.4</th>\n",
       "      <th>...</th>\n",
       "      <th>BOW 656</th>\n",
       "      <th>BOW 657</th>\n",
       "      <th>BOW 658</th>\n",
       "      <th>BOW 659</th>\n",
       "      <th>BOW 660</th>\n",
       "      <th>BOW 661</th>\n",
       "      <th>BOW 662</th>\n",
       "      <th>BOW 663</th>\n",
       "      <th>BOW 664</th>\n",
       "      <th>BOW 665</th>\n",
       "    </tr>\n",
       "  </thead>\n",
       "  <tbody>\n",
       "    <tr>\n",
       "      <th>0</th>\n",
       "      <td>1</td>\n",
       "      <td>Collection and Presentation of Data - II</td>\n",
       "      <td>Assumed Mean Method</td>\n",
       "      <td>IX&gt;&gt;Mathematics&gt;&gt;Statistics&gt;&gt;Graphical Represe...</td>\n",
       "      <td>X&gt;&gt;Mathematics&gt;&gt;Statistics&gt;&gt;Cumulative Frequen...</td>\n",
       "      <td>0.423383</td>\n",
       "      <td>3</td>\n",
       "      <td>1.000000</td>\n",
       "      <td>1.000000</td>\n",
       "      <td>1.000000</td>\n",
       "      <td>...</td>\n",
       "      <td>0</td>\n",
       "      <td>0</td>\n",
       "      <td>0</td>\n",
       "      <td>0</td>\n",
       "      <td>0</td>\n",
       "      <td>0</td>\n",
       "      <td>0</td>\n",
       "      <td>0</td>\n",
       "      <td>0</td>\n",
       "      <td>0</td>\n",
       "    </tr>\n",
       "    <tr>\n",
       "      <th>1</th>\n",
       "      <td>1</td>\n",
       "      <td>Frequency Polygon</td>\n",
       "      <td>Assumed Mean Method</td>\n",
       "      <td>IX&gt;&gt;Mathematics&gt;&gt;Statistics&gt;&gt;Graphical Represe...</td>\n",
       "      <td>X&gt;&gt;Mathematics&gt;&gt;Statistics&gt;&gt;Cumulative Frequen...</td>\n",
       "      <td>0.454223</td>\n",
       "      <td>2</td>\n",
       "      <td>1.000000</td>\n",
       "      <td>1.000000</td>\n",
       "      <td>1.000000</td>\n",
       "      <td>...</td>\n",
       "      <td>0</td>\n",
       "      <td>0</td>\n",
       "      <td>0</td>\n",
       "      <td>0</td>\n",
       "      <td>0</td>\n",
       "      <td>0</td>\n",
       "      <td>0</td>\n",
       "      <td>0</td>\n",
       "      <td>0</td>\n",
       "      <td>0</td>\n",
       "    </tr>\n",
       "    <tr>\n",
       "      <th>2</th>\n",
       "      <td>1</td>\n",
       "      <td>Mean</td>\n",
       "      <td>Assumed Mean Method</td>\n",
       "      <td>VII&gt;&gt;Mathematics&gt;&gt;Data Handling&gt;&gt;Median</td>\n",
       "      <td>X&gt;&gt;Mathematics&gt;&gt;Statistics&gt;&gt;Cumulative Frequen...</td>\n",
       "      <td>0.809664</td>\n",
       "      <td>1</td>\n",
       "      <td>1.000000</td>\n",
       "      <td>1.000000</td>\n",
       "      <td>1.000000</td>\n",
       "      <td>...</td>\n",
       "      <td>0</td>\n",
       "      <td>0</td>\n",
       "      <td>0</td>\n",
       "      <td>0</td>\n",
       "      <td>0</td>\n",
       "      <td>0</td>\n",
       "      <td>0</td>\n",
       "      <td>0</td>\n",
       "      <td>0</td>\n",
       "      <td>0</td>\n",
       "    </tr>\n",
       "    <tr>\n",
       "      <th>3</th>\n",
       "      <td>0</td>\n",
       "      <td>Angle Sum Property</td>\n",
       "      <td>Construction of a Similar Triangle</td>\n",
       "      <td>VII&gt;&gt;Mathematics&gt;&gt;The Triangle and its Propert...</td>\n",
       "      <td>X&gt;&gt;Mathematics&gt;&gt;Triangles&gt;&gt;Similar Figures</td>\n",
       "      <td>0.614234</td>\n",
       "      <td>3</td>\n",
       "      <td>1.000000</td>\n",
       "      <td>1.000000</td>\n",
       "      <td>1.000000</td>\n",
       "      <td>...</td>\n",
       "      <td>0</td>\n",
       "      <td>0</td>\n",
       "      <td>0</td>\n",
       "      <td>0</td>\n",
       "      <td>0</td>\n",
       "      <td>0</td>\n",
       "      <td>0</td>\n",
       "      <td>0</td>\n",
       "      <td>0</td>\n",
       "      <td>0</td>\n",
       "    </tr>\n",
       "    <tr>\n",
       "      <th>4</th>\n",
       "      <td>0</td>\n",
       "      <td>Inequality Property of Triangle</td>\n",
       "      <td>Construction of a Similar Triangle</td>\n",
       "      <td>VII&gt;&gt;Mathematics&gt;&gt;The Triangle and its Propert...</td>\n",
       "      <td>X&gt;&gt;Mathematics&gt;&gt;Triangles&gt;&gt;Similar Figures</td>\n",
       "      <td>0.739953</td>\n",
       "      <td>2</td>\n",
       "      <td>0.666667</td>\n",
       "      <td>0.666667</td>\n",
       "      <td>0.666667</td>\n",
       "      <td>...</td>\n",
       "      <td>0</td>\n",
       "      <td>0</td>\n",
       "      <td>0</td>\n",
       "      <td>0</td>\n",
       "      <td>0</td>\n",
       "      <td>0</td>\n",
       "      <td>0</td>\n",
       "      <td>0</td>\n",
       "      <td>0</td>\n",
       "      <td>0</td>\n",
       "    </tr>\n",
       "  </tbody>\n",
       "</table>\n",
       "<p>5 rows × 986 columns</p>\n",
       "</div>"
      ],
      "text/plain": [
       "   label                             pre requisite  \\\n",
       "0      1  Collection and Presentation of Data - II   \n",
       "1      1                         Frequency Polygon   \n",
       "2      1                                      Mean   \n",
       "3      0                        Angle Sum Property   \n",
       "4      0           Inequality Property of Triangle   \n",
       "\n",
       "                              concept  \\\n",
       "0                 Assumed Mean Method   \n",
       "1                 Assumed Mean Method   \n",
       "2                 Assumed Mean Method   \n",
       "3  Construction of a Similar Triangle   \n",
       "4  Construction of a Similar Triangle   \n",
       "\n",
       "                              pre requisite taxonomy  \\\n",
       "0  IX>>Mathematics>>Statistics>>Graphical Represe...   \n",
       "1  IX>>Mathematics>>Statistics>>Graphical Represe...   \n",
       "2            VII>>Mathematics>>Data Handling>>Median   \n",
       "3  VII>>Mathematics>>The Triangle and its Propert...   \n",
       "4  VII>>Mathematics>>The Triangle and its Propert...   \n",
       "\n",
       "                                    concept taxonomy  title 12  title 12.1  \\\n",
       "0  X>>Mathematics>>Statistics>>Cumulative Frequen...  0.423383           3   \n",
       "1  X>>Mathematics>>Statistics>>Cumulative Frequen...  0.454223           2   \n",
       "2  X>>Mathematics>>Statistics>>Cumulative Frequen...  0.809664           1   \n",
       "3         X>>Mathematics>>Triangles>>Similar Figures  0.614234           3   \n",
       "4         X>>Mathematics>>Triangles>>Similar Figures  0.739953           2   \n",
       "\n",
       "   title 12.2  title 12.3  title 12.4  ...  BOW 656  BOW 657  BOW 658  \\\n",
       "0    1.000000    1.000000    1.000000  ...        0        0        0   \n",
       "1    1.000000    1.000000    1.000000  ...        0        0        0   \n",
       "2    1.000000    1.000000    1.000000  ...        0        0        0   \n",
       "3    1.000000    1.000000    1.000000  ...        0        0        0   \n",
       "4    0.666667    0.666667    0.666667  ...        0        0        0   \n",
       "\n",
       "   BOW 659  BOW 660  BOW 661  BOW 662  BOW 663  BOW 664  BOW 665  \n",
       "0        0        0        0        0        0        0        0  \n",
       "1        0        0        0        0        0        0        0  \n",
       "2        0        0        0        0        0        0        0  \n",
       "3        0        0        0        0        0        0        0  \n",
       "4        0        0        0        0        0        0        0  \n",
       "\n",
       "[5 rows x 986 columns]"
      ]
     },
     "execution_count": 67,
     "metadata": {},
     "output_type": "execute_result"
    }
   ],
   "source": [
    "data = pd.read_csv(os.path.join('..', 'input', 'train.csv'))\n",
    "\n",
    "data.head()"
   ]
  },
  {
   "cell_type": "code",
   "execution_count": 68,
   "metadata": {},
   "outputs": [
    {
     "name": "stdout",
     "output_type": "stream",
     "text": [
      "Length of the dataset 2797\n",
      "Rows with a prereq ( Label = 1 ) 1113\n",
      "Rows without a prereq ( Label = 0 )1684\n"
     ]
    }
   ],
   "source": [
    "print(f'Length of the dataset {len(data)}')\n",
    "\n",
    "print(f'Rows with a prereq ( Label = 1 ) {sum(data.label == 1)}')\n",
    "\n",
    "print(f'Rows without a prereq ( Label = 0 ){sum(data.label == 0)}')"
   ]
  },
  {
   "cell_type": "code",
   "execution_count": 69,
   "metadata": {},
   "outputs": [
    {
     "name": "stdout",
     "output_type": "stream",
     "text": [
      "Unique concepts in the dataset 666\n",
      "Unique pre reqs in the dataset 439\n"
     ]
    }
   ],
   "source": [
    "print(f'Unique concepts in the dataset {len(data.concept.unique())}')\n",
    "\n",
    "print(f'Unique pre reqs in the dataset {len(data[\"pre requisite\"].unique())}')"
   ]
  },
  {
   "cell_type": "code",
   "execution_count": 70,
   "metadata": {},
   "outputs": [
    {
     "data": {
      "text/html": [
       "<div>\n",
       "<style scoped>\n",
       "    .dataframe tbody tr th:only-of-type {\n",
       "        vertical-align: middle;\n",
       "    }\n",
       "\n",
       "    .dataframe tbody tr th {\n",
       "        vertical-align: top;\n",
       "    }\n",
       "\n",
       "    .dataframe thead th {\n",
       "        text-align: right;\n",
       "    }\n",
       "</style>\n",
       "<table border=\"1\" class=\"dataframe\">\n",
       "  <thead>\n",
       "    <tr style=\"text-align: right;\">\n",
       "      <th></th>\n",
       "      <th>video name</th>\n",
       "      <th>transcript</th>\n",
       "      <th>extracted</th>\n",
       "    </tr>\n",
       "  </thead>\n",
       "  <tbody>\n",
       "    <tr>\n",
       "      <th>0</th>\n",
       "      <td>Collection and Presentation of Data - II</td>\n",
       "      <td>we already know that data can be presented us...</td>\n",
       "      <td>['upper class interval', 'upper class limit', ...</td>\n",
       "    </tr>\n",
       "    <tr>\n",
       "      <th>1</th>\n",
       "      <td>Frequency Polygon</td>\n",
       "      <td>there is the same ar picture is for ar thousa...</td>\n",
       "      <td>['frequency polygon ar frequency polygon', 'co...</td>\n",
       "    </tr>\n",
       "    <tr>\n",
       "      <th>2</th>\n",
       "      <td>Mean</td>\n",
       "      <td>mean in our day to day life we talk about ave...</td>\n",
       "      <td>['basket ball players', 'average', 'central va...</td>\n",
       "    </tr>\n",
       "    <tr>\n",
       "      <th>3</th>\n",
       "      <td>Angle Sum Property</td>\n",
       "      <td>angle sum property done by an looking confuse...</td>\n",
       "      <td>['triangle angle', 'testa line tan', 'good tan...</td>\n",
       "    </tr>\n",
       "    <tr>\n",
       "      <th>4</th>\n",
       "      <td>Inequality Property of Triangle</td>\n",
       "      <td>the sum of the lengths of any two sides of tr...</td>\n",
       "      <td>['lengths equal', 'third side', 'lengths']</td>\n",
       "    </tr>\n",
       "  </tbody>\n",
       "</table>\n",
       "</div>"
      ],
      "text/plain": [
       "                                 video name  \\\n",
       "0  Collection and Presentation of Data - II   \n",
       "1                         Frequency Polygon   \n",
       "2                                      Mean   \n",
       "3                        Angle Sum Property   \n",
       "4           Inequality Property of Triangle   \n",
       "\n",
       "                                          transcript  \\\n",
       "0   we already know that data can be presented us...   \n",
       "1   there is the same ar picture is for ar thousa...   \n",
       "2   mean in our day to day life we talk about ave...   \n",
       "3   angle sum property done by an looking confuse...   \n",
       "4   the sum of the lengths of any two sides of tr...   \n",
       "\n",
       "                                           extracted  \n",
       "0  ['upper class interval', 'upper class limit', ...  \n",
       "1  ['frequency polygon ar frequency polygon', 'co...  \n",
       "2  ['basket ball players', 'average', 'central va...  \n",
       "3  ['triangle angle', 'testa line tan', 'good tan...  \n",
       "4         ['lengths equal', 'third side', 'lengths']  "
      ]
     },
     "execution_count": 70,
     "metadata": {},
     "output_type": "execute_result"
    }
   ],
   "source": [
    "meta_data = pd.read_csv(os.path.join('..', 'input', 'metadata.csv'))\n",
    "\n",
    "meta_data.head(5)"
   ]
  },
  {
   "cell_type": "code",
   "execution_count": 71,
   "metadata": {},
   "outputs": [
    {
     "name": "stdout",
     "output_type": "stream",
     "text": [
      "length of meta_data 910\n",
      "Unique number  of videos in meta_data 910\n"
     ]
    }
   ],
   "source": [
    "print(f'length of meta_data {len(meta_data)}')\n",
    "\n",
    "print(f'Unique number  of videos in meta_data {len(meta_data[\"video name\"].unique())}')"
   ]
  },
  {
   "cell_type": "code",
   "execution_count": 72,
   "metadata": {},
   "outputs": [
    {
     "name": "stdout",
     "output_type": "stream",
     "text": [
      "Average length of transcript in the dataset 448.6142857142857\n"
     ]
    }
   ],
   "source": [
    "print(f'Average length of transcript in the dataset {meta_data[\"transcript\"].apply(lambda x: len(x.split())).mean()}')"
   ]
  },
  {
   "cell_type": "markdown",
   "metadata": {},
   "source": [
    "# Q. If A->B is in D then is there B!->A in D as well ?"
   ]
  },
  {
   "cell_type": "code",
   "execution_count": 73,
   "metadata": {},
   "outputs": [
    {
     "data": {
      "text/plain": [
       "Index(['label', 'pre requisite', 'concept', 'pre requisite taxonomy',\n",
       "       'concept taxonomy', 'title 12', 'title 12.1', 'title 12.2',\n",
       "       'title 12.3', 'title 12.4',\n",
       "       ...\n",
       "       'BOW 656', 'BOW 657', 'BOW 658', 'BOW 659', 'BOW 660', 'BOW 661',\n",
       "       'BOW 662', 'BOW 663', 'BOW 664', 'BOW 665'],\n",
       "      dtype='object', length=986)"
      ]
     },
     "execution_count": 73,
     "metadata": {},
     "output_type": "execute_result"
    }
   ],
   "source": [
    "data[data['label'] == 1].keys()"
   ]
  },
  {
   "cell_type": "code",
   "execution_count": 94,
   "metadata": {},
   "outputs": [],
   "source": [
    "df_label1 = data[data['label'] == 1][['pre requisite', 'concept']]"
   ]
  },
  {
   "cell_type": "code",
   "execution_count": 95,
   "metadata": {},
   "outputs": [],
   "source": [
    "df_label0 = (data[data['label'] == 0][['pre requisite', 'concept']])"
   ]
  },
  {
   "cell_type": "code",
   "execution_count": 99,
   "metadata": {},
   "outputs": [],
   "source": [
    "df_label0.rename(columns={'pre requisite': 'concept', 'concept': 'pre requisite'}, inplace=True)"
   ]
  },
  {
   "cell_type": "code",
   "execution_count": 100,
   "metadata": {},
   "outputs": [
    {
     "data": {
      "text/html": [
       "<div>\n",
       "<style scoped>\n",
       "    .dataframe tbody tr th:only-of-type {\n",
       "        vertical-align: middle;\n",
       "    }\n",
       "\n",
       "    .dataframe tbody tr th {\n",
       "        vertical-align: top;\n",
       "    }\n",
       "\n",
       "    .dataframe thead th {\n",
       "        text-align: right;\n",
       "    }\n",
       "</style>\n",
       "<table border=\"1\" class=\"dataframe\">\n",
       "  <thead>\n",
       "    <tr style=\"text-align: right;\">\n",
       "      <th></th>\n",
       "      <th>concept</th>\n",
       "      <th>pre requisite</th>\n",
       "    </tr>\n",
       "  </thead>\n",
       "  <tbody>\n",
       "    <tr>\n",
       "      <th>0</th>\n",
       "      <td>Soil Erosion</td>\n",
       "      <td>Soil Profile</td>\n",
       "    </tr>\n",
       "    <tr>\n",
       "      <th>1</th>\n",
       "      <td>kepler's second law</td>\n",
       "      <td>kepler's first law</td>\n",
       "    </tr>\n",
       "    <tr>\n",
       "      <th>2</th>\n",
       "      <td>Kepler's third law</td>\n",
       "      <td>kepler's first law</td>\n",
       "    </tr>\n",
       "    <tr>\n",
       "      <th>3</th>\n",
       "      <td>Kepler's third law</td>\n",
       "      <td>kepler's second law</td>\n",
       "    </tr>\n",
       "    <tr>\n",
       "      <th>4</th>\n",
       "      <td>Fertilisation</td>\n",
       "      <td>Human Reproductive System</td>\n",
       "    </tr>\n",
       "    <tr>\n",
       "      <th>5</th>\n",
       "      <td>Fertilisation</td>\n",
       "      <td>Viviparous and Oviparous Animals</td>\n",
       "    </tr>\n",
       "    <tr>\n",
       "      <th>6</th>\n",
       "      <td>Galvanic Cell</td>\n",
       "      <td>Electrochemical cell</td>\n",
       "    </tr>\n",
       "    <tr>\n",
       "      <th>7</th>\n",
       "      <td>Cellular Respiration</td>\n",
       "      <td>Anaerobic Respiration</td>\n",
       "    </tr>\n",
       "    <tr>\n",
       "      <th>8</th>\n",
       "      <td>Double Blood Circulation</td>\n",
       "      <td>Blood Vessels</td>\n",
       "    </tr>\n",
       "  </tbody>\n",
       "</table>\n",
       "</div>"
      ],
      "text/plain": [
       "                    concept                     pre requisite\n",
       "0              Soil Erosion                      Soil Profile\n",
       "1       kepler's second law                kepler's first law\n",
       "2        Kepler's third law                kepler's first law\n",
       "3        Kepler's third law               kepler's second law\n",
       "4             Fertilisation         Human Reproductive System\n",
       "5             Fertilisation  Viviparous and Oviparous Animals\n",
       "6             Galvanic Cell              Electrochemical cell\n",
       "7      Cellular Respiration             Anaerobic Respiration\n",
       "8  Double Blood Circulation                     Blood Vessels"
      ]
     },
     "execution_count": 100,
     "metadata": {},
     "output_type": "execute_result"
    }
   ],
   "source": [
    "df_label0.merge(df_label1)\n",
    "\n",
    "# there is an intersection of 9 rows between the two"
   ]
  },
  {
   "cell_type": "code",
   "execution_count": 101,
   "metadata": {},
   "outputs": [],
   "source": [
    "df_label0 = (data[data['label'] == 0][['pre requisite', 'concept']])"
   ]
  },
  {
   "cell_type": "code",
   "execution_count": 102,
   "metadata": {},
   "outputs": [],
   "source": [
    "df_label_change = df_label1.rename(columns={'pre requisite': 'concept', 'concept': 'pre requisite'}, inplace=False)"
   ]
  },
  {
   "cell_type": "code",
   "execution_count": 103,
   "metadata": {},
   "outputs": [
    {
     "data": {
      "text/plain": [
       "9"
      ]
     },
     "execution_count": 103,
     "metadata": {},
     "output_type": "execute_result"
    }
   ],
   "source": [
    "(df_label0.append(df_label_change).value_counts() == 2).sum()"
   ]
  },
  {
   "cell_type": "code",
   "execution_count": 104,
   "metadata": {},
   "outputs": [
    {
     "data": {
      "text/plain": [
       "array([1, 1, 1, ..., 0, 0, 0], dtype=int64)"
      ]
     },
     "execution_count": 104,
     "metadata": {},
     "output_type": "execute_result"
    }
   ],
   "source": [
    "data.label.values"
   ]
  },
  {
   "cell_type": "code",
   "execution_count": 116,
   "metadata": {},
   "outputs": [],
   "source": [
    "df = pd.read_csv(os.path.join('..', 'input', 'train_folds.csv'))"
   ]
  },
  {
   "cell_type": "code",
   "execution_count": 117,
   "metadata": {},
   "outputs": [],
   "source": [
    "df_unagumented = pd.read_csv(os.path.join('..', 'input', 'train.csv'))"
   ]
  },
  {
   "cell_type": "code",
   "execution_count": 118,
   "metadata": {},
   "outputs": [
    {
     "data": {
      "text/plain": [
       "0    2788\n",
       "1    1113\n",
       "Name: label, dtype: int64"
      ]
     },
     "execution_count": 118,
     "metadata": {},
     "output_type": "execute_result"
    }
   ],
   "source": [
    "df['label'].value_counts()"
   ]
  },
  {
   "cell_type": "code",
   "execution_count": 119,
   "metadata": {},
   "outputs": [
    {
     "data": {
      "text/plain": [
       "0    1684\n",
       "1    1113\n",
       "Name: label, dtype: int64"
      ]
     },
     "execution_count": 119,
     "metadata": {},
     "output_type": "execute_result"
    }
   ],
   "source": [
    "df_unagumented['label'].value_counts()"
   ]
  },
  {
   "cell_type": "code",
   "execution_count": null,
   "metadata": {},
   "outputs": [],
   "source": []
  }
 ],
 "metadata": {
  "kernelspec": {
   "display_name": "ml",
   "language": "python",
   "name": "python3"
  },
  "language_info": {
   "codemirror_mode": {
    "name": "ipython",
    "version": 3
   },
   "file_extension": ".py",
   "mimetype": "text/x-python",
   "name": "python",
   "nbconvert_exporter": "python",
   "pygments_lexer": "ipython3",
   "version": "3.7.6"
  },
  "orig_nbformat": 4
 },
 "nbformat": 4,
 "nbformat_minor": 2
}
