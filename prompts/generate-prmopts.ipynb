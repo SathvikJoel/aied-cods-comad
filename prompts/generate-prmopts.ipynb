{
 "cells": [
  {
   "cell_type": "code",
   "execution_count": 1,
   "metadata": {},
   "outputs": [],
   "source": [
    "import pandas as pd\n",
    "import os\n",
    "import numpy as np"
   ]
  },
  {
   "cell_type": "code",
   "execution_count": 11,
   "metadata": {},
   "outputs": [],
   "source": [
    "data = pd.read_csv(os.path.join('..', 'input', 'train_folds_wo_agumentation.csv'))\n",
    "\n",
    "train_df = data[data['kfold'] != 1][['pre requisite', 'concept', 'label', 'pre requisite taxonomy', 'concept taxonomy']]\n",
    "dev_df = data[data['kfold'] == 1][['pre requisite', 'concept', 'label', 'pre requisite taxonomy', 'concept taxonomy']]\n",
    "meta_data_transcript = pd.read_csv(os.path.join('..', 'input', 'metadata.csv'), index_col='video name')['transcript']\n",
    "meta_data_extracted = pd.read_csv(os.path.join('..', 'input', 'metadata.csv'), index_col='video name')['extracted']\n",
    "\n"
   ]
  },
  {
   "cell_type": "code",
   "execution_count": 59,
   "metadata": {},
   "outputs": [],
   "source": [
    "def generate_random_prompt():\n",
    "\n",
    "    rand_sample = dev_df.sample(1)\n",
    "    video_A = rand_sample['pre requisite'].values[0]\n",
    "    video_B = rand_sample['concept'].values[0]\n",
    "    video_A_taxonomy = rand_sample['pre requisite taxonomy'].values[0]\n",
    "    video_B_taxonomy = rand_sample['concept taxonomy'].values[0]\n",
    "\n",
    "    video_A_transcript = meta_data_transcript[video_A]\n",
    "    video_B_transcript = meta_data_transcript[video_B]\n",
    "    \n",
    "    label = rand_sample['label'].values[0]\n",
    "\n",
    "    prompt = f'''\n",
    "Your job is to predict if the given  video A is a would follow prior to video B in a learning flow, give a very short discription in one line explaning your rational.\n",
    "Give me the answer as \n",
    "\n",
    "True, if the  video A should be prior to video B in a learning flow to ensure a efficient and effective coverage of the topics being discussed in the videos.\n",
    "False, if video A dont need to be prior to video B in a learning flow or if video A is not a pre requiste of video B.\n",
    "\n",
    "\n",
    "We also provide a taxonomy for each video that can help you with the decision. You are also provided with the transcripts of those videos, use them while preicting the answer. \n",
    "\n",
    "\n",
    "\n",
    "video A : {video_A}\n",
    "video A Taxonomy : {video_A_taxonomy}\n",
    "Video A Transcript :   {video_A_transcript}\n",
    "\n",
    "video B : {video_B}\n",
    "video B Taxonomy : {video_B_taxonomy}\n",
    "Video B Transcript : {video_B_transcript}\n",
    "\n",
    "We are using this  to make a learning workflow for students, so that we can recommend personalized learning pathways to users, fostering efficient and effective \n",
    "coverage of specific academic concepts. make sure to give your answer in accordance with that. Base your answer on the information provided in the video transcripts.\n",
    "\n",
    "    '''\n",
    "\n",
    "    with open(os.path.join('..', 'input', 'random_prompt.txt'), 'w') as f:\n",
    "        f.write(prompt)\n",
    "        f.write('\\n'*10)\n",
    "        f.write(str(int(label)))\n",
    "    \n",
    "    return [prompt, label]"
   ]
  },
  {
   "cell_type": "code",
   "execution_count": 61,
   "metadata": {},
   "outputs": [
    {
     "name": "stdout",
     "output_type": "stream",
     "text": [
      "\n",
      "Your job is to predict if the given  video A is a would follow prior to video B in a learning flow, give a very short discription in one line explaning your rational.\n",
      "Give me the answer as \n",
      "\n",
      "True, if the  video A should be prior to video B in a learning flow to ensure a efficient and effective coverage of the topics being discussed in the videos.\n",
      "False, if video A dont need to be prior to video B in a learning flow or if video A is not a pre requiste of video B.\n",
      "\n",
      "\n",
      "We also provide a taxonomy for each video that can help you with the decision. You are also provided with the transcripts of those videos, use them while preicting the answer. \n",
      "\n",
      "\n",
      "\n",
      "video A : Non-metals\n",
      "video A Taxonomy : VIII>>Science>>Materials : Metals and Non-Metals>>Chemical Properties of Metals and Non-metals\n",
      "Video A Transcript :    materials on the basis of their properties are classified into to tide these categories are metals and non metals examples of metals include iron copper lead an aleminium examples of non metals include sulphur iodine oxygen and hydrogen non metals exist either as solids are gases blue mean is an exception as it exists in liquid state non metals are poor conductors of electricity grefight is an exception here as it is at good conductor of electricity and often used in battery non metals are soft and brittle as the great easily therefore unlike metals they cannot be beaten into sheets or don into wires hence they are non malleable and non ductile diamond which is the form of carbon is exception to many properties of non metals diamond is extremely hard non metals have low melting and boiling point but diamond has high melting and boiling point generally non metals except for iodine like shining sulphate and they are non lustrous non metals react with oxygen to give non metallic oxides these non metallic oxides are acidic in nature observe the reaction between sulphur and oxygen take powder sulphur in deflegrating spoon and heated when the sulphur starts burning introduce the deflagurating spoon in at glass tumbler after some time remove the lid add little water into the tumbler and quickly place the lid shake the glass tumbler and check the solution with blue litmus paper blue litmus turns red proving the acidic nature of non metallic oxide formed non metal like phosphorus is stored in water as it reacts vigorously with air non metals do not react with water and acids\n",
      "\n",
      "video B : Newton's First Law of Motion\n",
      "video B Taxonomy : XI>>Physics>>Physics : Part I>>Laws of Motion\n",
      "Video B Transcript :  newtons first law of motion ar toy card being pulled with the string stops as soon as the string brakes as on such daily life experiences aristortle suggested that an external force is recuiet to keep the body in motion galilio another famous physicist studded the motion of bodies on as smooth double inclined plane when he ball is released from one side of the double inclined plane it rises up to the same height on the other side on changing the slope of the second plane the ball was again observe to rise up to the same height as before though it covered a larger distance in the second case finally when the second plane becomes horizontal and the ball is released from the same height it travelled up to infinity galilio dust concluded that if he body is in uniform motion on smooth surface it continues to move without any external force ristortle had studded the motion on he rough surface and did not consider the force of friction and hence the fallacy based on gallileos conclusion newton formulated is first law of motion when the driver of abuse sudise the brakes the lower part of the girls body which is in contact with the moving bast stops imagely by the upper part continues to be in a state of motion due to inertia and she gets acute in the forward direction thus ar body resists any change in its state of motion when the signal turns green and the driver again starts the bus the lower portion of the body shares the motion of the bus but the upper part tends to remain in rest and the girl gets acurt in the backward direction thus ar body resists any change in its state of rest combining the two observations we get newtons first law of motion everybody resists are change in its state of rest or of uniform motion in straight line unless acted the born by an external force when the tree is shaken its branches move slightly but the fruits and leaves which remain at rest get detached from it also the carpet resist in motion when beaten by as stick but the dust particles that were at rest get detached from the carpet\n",
      "\n",
      "We are using this  to make a learning workflow for students, so that we can recommend personalized learning pathways to users, fostering efficient and effective \n",
      "coverage of specific academic concepts. make sure to give your answer in accordance with that. Base your answer on the information provided in the video transcripts.\n",
      "\n",
      "    \n"
     ]
    }
   ],
   "source": [
    "prompt, label = generate_random_prompt()\n",
    "print(prompt)\n"
   ]
  },
  {
   "cell_type": "code",
   "execution_count": 33,
   "metadata": {},
   "outputs": [
    {
     "data": {
      "text/plain": [
       "0"
      ]
     },
     "execution_count": 33,
     "metadata": {},
     "output_type": "execute_result"
    }
   ],
   "source": [
    "label"
   ]
  },
  {
   "cell_type": "code",
   "execution_count": null,
   "metadata": {},
   "outputs": [],
   "source": []
  }
 ],
 "metadata": {
  "kernelspec": {
   "display_name": "ml",
   "language": "python",
   "name": "python3"
  },
  "language_info": {
   "codemirror_mode": {
    "name": "ipython",
    "version": 3
   },
   "file_extension": ".py",
   "mimetype": "text/x-python",
   "name": "python",
   "nbconvert_exporter": "python",
   "pygments_lexer": "ipython3",
   "version": "3.7.6"
  },
  "orig_nbformat": 4
 },
 "nbformat": 4,
 "nbformat_minor": 2
}
